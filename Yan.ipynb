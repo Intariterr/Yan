{
  "nbformat": 4,
  "nbformat_minor": 0,
  "metadata": {
    "colab": {
      "provenance": []
    },
    "kernelspec": {
      "name": "python3",
      "display_name": "Python 3"
    },
    "language_info": {
      "name": "python"
    }
  },
  "cells": [
    {
      "cell_type": "code",
      "execution_count": 1,
      "metadata": {
        "id": "rSxGI93dTrFk"
      },
      "outputs": [],
      "source": [
        "import requests\n",
        "\n",
        "mrturl = \"https://jakartamrt.co.id/id/val/stasiuns\"\n",
        "\n",
        "opener = requests.get(mrturl)"
      ]
    },
    {
      "cell_type": "code",
      "source": [
        "data = opener.json()\n",
        "\n",
        "total = len(data)\n",
        "\n",
        "total"
      ],
      "metadata": {
        "colab": {
          "base_uri": "https://localhost:8080/"
        },
        "id": "V8O2ExPuUbkV",
        "outputId": "34697dab-bd53-4b29-c27f-61cb65527ac2"
      },
      "execution_count": 2,
      "outputs": [
        {
          "output_type": "execute_result",
          "data": {
            "text/plain": [
              "13"
            ]
          },
          "metadata": {},
          "execution_count": 2
        }
      ]
    },
    {
      "cell_type": "code",
      "source": [
        "sample = data[5]\n",
        "\n",
        "listi = list(sample.keys())\n",
        "\n",
        "listi[:5]"
      ],
      "metadata": {
        "colab": {
          "base_uri": "https://localhost:8080/"
        },
        "id": "i9eIII0kUgQq",
        "outputId": "351771ed-e5d4-41fa-ef6b-52363f9faa11"
      },
      "execution_count": 3,
      "outputs": [
        {
          "output_type": "execute_result",
          "data": {
            "text/plain": [
              "['nid', 'title', 'urutan', 'isbig', 'path']"
            ]
          },
          "metadata": {},
          "execution_count": 3
        }
      ]
    },
    {
      "cell_type": "code",
      "source": [
        "listi[5:9]"
      ],
      "metadata": {
        "colab": {
          "base_uri": "https://localhost:8080/"
        },
        "id": "PQSI1KP9VMq2",
        "outputId": "ddbdc94f-a75f-4029-c3a1-0f8518bebdd0"
      },
      "execution_count": 4,
      "outputs": [
        {
          "output_type": "execute_result",
          "data": {
            "text/plain": [
              "['catatan', 'antarmodas', 'peta_lokalitas', 'jadwal_lb_biasa']"
            ]
          },
          "metadata": {},
          "execution_count": 4
        }
      ]
    },
    {
      "cell_type": "code",
      "source": [
        "listi[9:12]"
      ],
      "metadata": {
        "colab": {
          "base_uri": "https://localhost:8080/"
        },
        "id": "OEXn2xelVP1G",
        "outputId": "b8417478-d6a4-4dd9-ee8f-63cabaf381eb"
      },
      "execution_count": 5,
      "outputs": [
        {
          "output_type": "execute_result",
          "data": {
            "text/plain": [
              "['jadwal_lb_libur', 'jadwal_hi_biasa', 'jadwal_hi_libur']"
            ]
          },
          "metadata": {},
          "execution_count": 5
        }
      ]
    },
    {
      "cell_type": "code",
      "source": [
        "listi[12:]"
      ],
      "metadata": {
        "colab": {
          "base_uri": "https://localhost:8080/"
        },
        "id": "QW78mttGVTDJ",
        "outputId": "79ca1159-0474-477c-9006-79167b87cc4d"
      },
      "execution_count": 6,
      "outputs": [
        {
          "output_type": "execute_result",
          "data": {
            "text/plain": [
              "['banner', 'retails', 'estimasi', 'fasilitas']"
            ]
          },
          "metadata": {},
          "execution_count": 6
        }
      ]
    },
    {
      "cell_type": "code",
      "source": [
        "sample[\"title\"]"
      ],
      "metadata": {
        "colab": {
          "base_uri": "https://localhost:8080/",
          "height": 35
        },
        "id": "OjinBUDmVgDq",
        "outputId": "2b9c418b-3b0c-4418-a2f7-4c74f3d59a79"
      },
      "execution_count": 7,
      "outputs": [
        {
          "output_type": "execute_result",
          "data": {
            "text/plain": [
              "'Stasiun Blok M BCA'"
            ],
            "application/vnd.google.colaboratory.intrinsic+json": {
              "type": "string"
            }
          },
          "metadata": {},
          "execution_count": 7
        }
      ]
    },
    {
      "cell_type": "code",
      "source": [
        "sample[\"nid\"]"
      ],
      "metadata": {
        "colab": {
          "base_uri": "https://localhost:8080/",
          "height": 35
        },
        "id": "h85PH6gTVpVP",
        "outputId": "e52d1e13-4576-4dc1-c668-47d73d8e9711"
      },
      "execution_count": 8,
      "outputs": [
        {
          "output_type": "execute_result",
          "data": {
            "text/plain": [
              "'32'"
            ],
            "application/vnd.google.colaboratory.intrinsic+json": {
              "type": "string"
            }
          },
          "metadata": {},
          "execution_count": 8
        }
      ]
    },
    {
      "cell_type": "code",
      "source": [
        "sample[\"urutan\"]"
      ],
      "metadata": {
        "colab": {
          "base_uri": "https://localhost:8080/",
          "height": 35
        },
        "id": "XpZY-_z7VsIu",
        "outputId": "243ff862-2917-442b-ce76-30523ce8e618"
      },
      "execution_count": 9,
      "outputs": [
        {
          "output_type": "execute_result",
          "data": {
            "text/plain": [
              "'6'"
            ],
            "application/vnd.google.colaboratory.intrinsic+json": {
              "type": "string"
            }
          },
          "metadata": {},
          "execution_count": 9
        }
      ]
    },
    {
      "cell_type": "code",
      "source": [
        "sample[\"isbig\"]"
      ],
      "metadata": {
        "colab": {
          "base_uri": "https://localhost:8080/",
          "height": 35
        },
        "id": "jPeJm7jPV0rV",
        "outputId": "14dfc99c-6f18-48a7-b046-9a4bd54a9211"
      },
      "execution_count": 10,
      "outputs": [
        {
          "output_type": "execute_result",
          "data": {
            "text/plain": [
              "'1'"
            ],
            "application/vnd.google.colaboratory.intrinsic+json": {
              "type": "string"
            }
          },
          "metadata": {},
          "execution_count": 10
        }
      ]
    },
    {
      "cell_type": "code",
      "source": [
        "total_big_statiun = sum([int(data[i][\"isbig\"]) for i in range(13)])\n",
        "\n",
        "total_big_statiun"
      ],
      "metadata": {
        "colab": {
          "base_uri": "https://localhost:8080/"
        },
        "id": "Zc05BaHOWW6y",
        "outputId": "d8f17e64-4d21-4512-d168-876786e3da37"
      },
      "execution_count": 11,
      "outputs": [
        {
          "output_type": "execute_result",
          "data": {
            "text/plain": [
              "3"
            ]
          },
          "metadata": {},
          "execution_count": 11
        }
      ]
    },
    {
      "cell_type": "code",
      "source": [
        "sample[\"path\"]"
      ],
      "metadata": {
        "colab": {
          "base_uri": "https://localhost:8080/",
          "height": 35
        },
        "id": "li59jVF5WmmW",
        "outputId": "05d39b0b-5c99-4a1e-cf95-557f7c9c70dc"
      },
      "execution_count": 12,
      "outputs": [
        {
          "output_type": "execute_result",
          "data": {
            "text/plain": [
              "'/id/stasiun/stasiun-blok-m-bca'"
            ],
            "application/vnd.google.colaboratory.intrinsic+json": {
              "type": "string"
            }
          },
          "metadata": {},
          "execution_count": 12
        }
      ]
    },
    {
      "cell_type": "code",
      "source": [
        "portable = sample[\"antarmodas\"]\n",
        "\n",
        "type(portable)"
      ],
      "metadata": {
        "colab": {
          "base_uri": "https://localhost:8080/"
        },
        "id": "POudL8e3WzC0",
        "outputId": "ce44b170-6c1a-49b4-f2cf-aa8490a7b3f3"
      },
      "execution_count": 13,
      "outputs": [
        {
          "output_type": "execute_result",
          "data": {
            "text/plain": [
              "str"
            ]
          },
          "metadata": {},
          "execution_count": 13
        }
      ]
    },
    {
      "cell_type": "code",
      "source": [
        "spliter = \"\\r\\n\\r\\n\"\n",
        "\n",
        "portable = portable.split(spliter)\n",
        "\n",
        "portable[0]"
      ],
      "metadata": {
        "colab": {
          "base_uri": "https://localhost:8080/",
          "height": 35
        },
        "id": "wTP2EveRS-fl",
        "outputId": "fd9a9487-9216-4683-9bb5-ee1a216b4201"
      },
      "execution_count": 14,
      "outputs": [
        {
          "output_type": "execute_result",
          "data": {
            "text/plain": [
              "'Transjakarta\\r\\nKoridor 1, 1C, 6M, 7B, S21, S22'"
            ],
            "application/vnd.google.colaboratory.intrinsic+json": {
              "type": "string"
            }
          },
          "metadata": {},
          "execution_count": 14
        }
      ]
    },
    {
      "cell_type": "code",
      "source": [
        "splat = \"\\r\\n\"\n",
        "\n",
        "portable = [i.replace(splat, \" \") for i in portable]\n",
        "\n",
        "portable[0]"
      ],
      "metadata": {
        "colab": {
          "base_uri": "https://localhost:8080/",
          "height": 35
        },
        "id": "6XA4rEN6TUjq",
        "outputId": "c3dc904c-7374-498c-8da0-1c6f0eb0298e"
      },
      "execution_count": 15,
      "outputs": [
        {
          "output_type": "execute_result",
          "data": {
            "text/plain": [
              "'Transjakarta Koridor 1, 1C, 6M, 7B, S21, S22'"
            ],
            "application/vnd.google.colaboratory.intrinsic+json": {
              "type": "string"
            }
          },
          "metadata": {},
          "execution_count": 15
        }
      ]
    },
    {
      "cell_type": "code",
      "source": [
        "len(portable)"
      ],
      "metadata": {
        "colab": {
          "base_uri": "https://localhost:8080/"
        },
        "id": "QjMUQ3PkTsiI",
        "outputId": "cdfa598f-4f5e-4991-a291-77311ceebc95"
      },
      "execution_count": 16,
      "outputs": [
        {
          "output_type": "execute_result",
          "data": {
            "text/plain": [
              "15"
            ]
          },
          "metadata": {},
          "execution_count": 16
        }
      ]
    },
    {
      "cell_type": "code",
      "source": [
        "portabler = lambda port : [i.replace(splat, \" \") for i in port.split(spliter)]\n",
        "\n",
        "portabli = portabler(sample[\"antarmodas\"])\n",
        "\n",
        "assert len(portable) == len(portabli), \"Fail !\""
      ],
      "metadata": {
        "id": "l4a7YdrfT6sB"
      },
      "execution_count": 17,
      "outputs": []
    },
    {
      "cell_type": "code",
      "source": [
        "spliter = \"\\r\\n\\r\\n\"\n",
        "\n",
        "splat = \"\\r\\n\"\n",
        "\n",
        "class SingleYanClass:\n",
        "  def __init__(self, origin):\n",
        "    self.origin = origin\n",
        "\n",
        "  def GetAntarModas(self, i):\n",
        "    if not self.origin[i][\"antarmodas\"]:\n",
        "      return []\n",
        "    return portabler(self.origin[i][\"antarmodas\"])\n",
        "\n",
        "temporary = SingleYanClass(data)\n",
        "\n",
        "temporary.GetAntarModas(2)"
      ],
      "metadata": {
        "colab": {
          "base_uri": "https://localhost:8080/"
        },
        "id": "brNQieXUUhkq",
        "outputId": "63fefe87-5747-49aa-d6f4-1f7d89a51819"
      },
      "execution_count": 18,
      "outputs": [
        {
          "output_type": "execute_result",
          "data": {
            "text/plain": [
              "[]"
            ]
          },
          "metadata": {},
          "execution_count": 18
        }
      ]
    },
    {
      "cell_type": "code",
      "source": [
        "class YanClass(SingleYanClass):\n",
        "  def __init__(self, origin):\n",
        "    super().__init__(origin)\n",
        "\n",
        "  @property\n",
        "  def GetBigStatiun(self):\n",
        "    result = [int(self.origin[i][\"isbig\"]) for i in range(13)]\n",
        "    result = sum(result)\n",
        "    return result\n",
        "\n",
        "  @property\n",
        "  def GetTotalAntarModas(self):\n",
        "    result = {}\n",
        "    for i in range(13):\n",
        "      result[self.origin[i][\"title\"]] = len(self.GetAntarModas(i))\n",
        "    return result\n",
        "\n",
        "tempo = YanClass(data)"
      ],
      "metadata": {
        "id": "1qzXczlKViZG"
      },
      "execution_count": null,
      "outputs": []
    }
  ]
}