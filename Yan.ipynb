{
  "nbformat": 4,
  "nbformat_minor": 0,
  "metadata": {
    "colab": {
      "provenance": []
    },
    "kernelspec": {
      "name": "python3",
      "display_name": "Python 3"
    },
    "language_info": {
      "name": "python"
    }
  },
  "cells": [
    {
      "cell_type": "code",
      "execution_count": 1,
      "metadata": {
        "id": "rSxGI93dTrFk"
      },
      "outputs": [],
      "source": [
        "import requests\n",
        "\n",
        "mrturl = \"https://jakartamrt.co.id/id/val/stasiuns\"\n",
        "\n",
        "opener = requests.get(mrturl)"
      ]
    },
    {
      "cell_type": "code",
      "source": [
        "data = opener.json()\n",
        "\n",
        "total = len(data)\n",
        "\n",
        "total"
      ],
      "metadata": {
        "colab": {
          "base_uri": "https://localhost:8080/"
        },
        "id": "V8O2ExPuUbkV",
        "outputId": "e1c15250-54bf-4649-d979-b08fa791ce72"
      },
      "execution_count": 2,
      "outputs": [
        {
          "output_type": "execute_result",
          "data": {
            "text/plain": [
              "13"
            ]
          },
          "metadata": {},
          "execution_count": 2
        }
      ]
    },
    {
      "cell_type": "code",
      "source": [
        "sample = data[5]\n",
        "\n",
        "listi = list(sample.keys())\n",
        "\n",
        "listi[:5]"
      ],
      "metadata": {
        "colab": {
          "base_uri": "https://localhost:8080/"
        },
        "id": "i9eIII0kUgQq",
        "outputId": "a6ca8da2-2325-43bc-86c7-f62d237e2949"
      },
      "execution_count": 3,
      "outputs": [
        {
          "output_type": "execute_result",
          "data": {
            "text/plain": [
              "['nid', 'title', 'urutan', 'isbig', 'path']"
            ]
          },
          "metadata": {},
          "execution_count": 3
        }
      ]
    },
    {
      "cell_type": "code",
      "source": [
        "listi[5:9]"
      ],
      "metadata": {
        "colab": {
          "base_uri": "https://localhost:8080/"
        },
        "id": "PQSI1KP9VMq2",
        "outputId": "825f06ac-78af-46f5-8e49-5a807c9e5f5c"
      },
      "execution_count": 4,
      "outputs": [
        {
          "output_type": "execute_result",
          "data": {
            "text/plain": [
              "['catatan', 'antarmodas', 'peta_lokalitas', 'jadwal_lb_biasa']"
            ]
          },
          "metadata": {},
          "execution_count": 4
        }
      ]
    },
    {
      "cell_type": "code",
      "source": [
        "listi[9:12]"
      ],
      "metadata": {
        "colab": {
          "base_uri": "https://localhost:8080/"
        },
        "id": "OEXn2xelVP1G",
        "outputId": "b8867d68-002a-4846-ec8b-7ae97415d81f"
      },
      "execution_count": 5,
      "outputs": [
        {
          "output_type": "execute_result",
          "data": {
            "text/plain": [
              "['jadwal_lb_libur', 'jadwal_hi_biasa', 'jadwal_hi_libur']"
            ]
          },
          "metadata": {},
          "execution_count": 5
        }
      ]
    },
    {
      "cell_type": "code",
      "source": [
        "listi[12:]"
      ],
      "metadata": {
        "colab": {
          "base_uri": "https://localhost:8080/"
        },
        "id": "QW78mttGVTDJ",
        "outputId": "3f6454f4-a0e6-463b-ae13-091cf9e253d7"
      },
      "execution_count": 6,
      "outputs": [
        {
          "output_type": "execute_result",
          "data": {
            "text/plain": [
              "['banner', 'retails', 'estimasi', 'fasilitas']"
            ]
          },
          "metadata": {},
          "execution_count": 6
        }
      ]
    },
    {
      "cell_type": "code",
      "source": [
        "sample[\"title\"]"
      ],
      "metadata": {
        "colab": {
          "base_uri": "https://localhost:8080/",
          "height": 35
        },
        "id": "OjinBUDmVgDq",
        "outputId": "016119cf-a464-4c00-c361-b7f55930b8e1"
      },
      "execution_count": 7,
      "outputs": [
        {
          "output_type": "execute_result",
          "data": {
            "text/plain": [
              "'Stasiun Blok M BCA'"
            ],
            "application/vnd.google.colaboratory.intrinsic+json": {
              "type": "string"
            }
          },
          "metadata": {},
          "execution_count": 7
        }
      ]
    },
    {
      "cell_type": "code",
      "source": [
        "sample[\"nid\"]"
      ],
      "metadata": {
        "colab": {
          "base_uri": "https://localhost:8080/",
          "height": 35
        },
        "id": "h85PH6gTVpVP",
        "outputId": "0d32e339-990b-47d4-cccb-1688f6f06904"
      },
      "execution_count": 8,
      "outputs": [
        {
          "output_type": "execute_result",
          "data": {
            "text/plain": [
              "'32'"
            ],
            "application/vnd.google.colaboratory.intrinsic+json": {
              "type": "string"
            }
          },
          "metadata": {},
          "execution_count": 8
        }
      ]
    },
    {
      "cell_type": "code",
      "source": [
        "sample[\"urutan\"]"
      ],
      "metadata": {
        "colab": {
          "base_uri": "https://localhost:8080/",
          "height": 35
        },
        "id": "XpZY-_z7VsIu",
        "outputId": "2427a73e-4876-4c00-c675-bc9e4810d5f3"
      },
      "execution_count": 9,
      "outputs": [
        {
          "output_type": "execute_result",
          "data": {
            "text/plain": [
              "'6'"
            ],
            "application/vnd.google.colaboratory.intrinsic+json": {
              "type": "string"
            }
          },
          "metadata": {},
          "execution_count": 9
        }
      ]
    },
    {
      "cell_type": "code",
      "source": [
        "sample[\"isbig\"]"
      ],
      "metadata": {
        "colab": {
          "base_uri": "https://localhost:8080/",
          "height": 35
        },
        "id": "jPeJm7jPV0rV",
        "outputId": "91ba73c3-796e-4ab7-e1a2-38e83c4879a9"
      },
      "execution_count": 10,
      "outputs": [
        {
          "output_type": "execute_result",
          "data": {
            "text/plain": [
              "'1'"
            ],
            "application/vnd.google.colaboratory.intrinsic+json": {
              "type": "string"
            }
          },
          "metadata": {},
          "execution_count": 10
        }
      ]
    },
    {
      "cell_type": "code",
      "source": [
        "total_big_statiun = sum([int(data[i][\"isbig\"]) for i in range(13)])\n",
        "\n",
        "total_big_statiun"
      ],
      "metadata": {
        "colab": {
          "base_uri": "https://localhost:8080/"
        },
        "id": "Zc05BaHOWW6y",
        "outputId": "77074643-247b-4a04-f9af-4571983a3b1c"
      },
      "execution_count": 11,
      "outputs": [
        {
          "output_type": "execute_result",
          "data": {
            "text/plain": [
              "3"
            ]
          },
          "metadata": {},
          "execution_count": 11
        }
      ]
    },
    {
      "cell_type": "code",
      "source": [
        "sample[\"path\"]"
      ],
      "metadata": {
        "colab": {
          "base_uri": "https://localhost:8080/",
          "height": 35
        },
        "id": "li59jVF5WmmW",
        "outputId": "ed8570e2-9880-4764-b075-ff6fd9802ff7"
      },
      "execution_count": 12,
      "outputs": [
        {
          "output_type": "execute_result",
          "data": {
            "text/plain": [
              "'/id/stasiun/stasiun-blok-m-bca'"
            ],
            "application/vnd.google.colaboratory.intrinsic+json": {
              "type": "string"
            }
          },
          "metadata": {},
          "execution_count": 12
        }
      ]
    },
    {
      "cell_type": "code",
      "source": [
        "portable = sample[\"antarmodas\"]\n",
        "\n",
        "type(portable)"
      ],
      "metadata": {
        "colab": {
          "base_uri": "https://localhost:8080/"
        },
        "id": "POudL8e3WzC0",
        "outputId": "89e480d3-a7a0-46b0-9ac8-7b5de88b007f"
      },
      "execution_count": 13,
      "outputs": [
        {
          "output_type": "execute_result",
          "data": {
            "text/plain": [
              "str"
            ]
          },
          "metadata": {},
          "execution_count": 13
        }
      ]
    },
    {
      "cell_type": "code",
      "source": [
        "spliter = \"\\r\\n\\r\\n\"\n",
        "\n",
        "portable = portable.split(spliter)\n",
        "\n",
        "portable[0]"
      ],
      "metadata": {
        "id": "wTP2EveRS-fl",
        "outputId": "6f88bc1e-317f-4404-8866-efe124a03fd7",
        "colab": {
          "base_uri": "https://localhost:8080/",
          "height": 35
        }
      },
      "execution_count": 14,
      "outputs": [
        {
          "output_type": "execute_result",
          "data": {
            "text/plain": [
              "'Transjakarta\\r\\nKoridor 1, 1C, 6M, 7B, S21, S22'"
            ],
            "application/vnd.google.colaboratory.intrinsic+json": {
              "type": "string"
            }
          },
          "metadata": {},
          "execution_count": 14
        }
      ]
    },
    {
      "cell_type": "code",
      "source": [
        "splat = \"\\r\\n\"\n",
        "\n",
        "portable = [i.replace(splat, \" \") for i in portable]\n",
        "\n",
        "portable[0]"
      ],
      "metadata": {
        "id": "6XA4rEN6TUjq",
        "outputId": "54283dc0-3d02-4726-b148-d69c5f43ec78",
        "colab": {
          "base_uri": "https://localhost:8080/",
          "height": 35
        }
      },
      "execution_count": 15,
      "outputs": [
        {
          "output_type": "execute_result",
          "data": {
            "text/plain": [
              "'Transjakarta Koridor 1, 1C, 6M, 7B, S21, S22'"
            ],
            "application/vnd.google.colaboratory.intrinsic+json": {
              "type": "string"
            }
          },
          "metadata": {},
          "execution_count": 15
        }
      ]
    },
    {
      "cell_type": "code",
      "source": [
        "len(portable)"
      ],
      "metadata": {
        "id": "QjMUQ3PkTsiI",
        "outputId": "41c19cfc-393e-400f-c446-7e35dc8f2ea1",
        "colab": {
          "base_uri": "https://localhost:8080/"
        }
      },
      "execution_count": 16,
      "outputs": [
        {
          "output_type": "execute_result",
          "data": {
            "text/plain": [
              "15"
            ]
          },
          "metadata": {},
          "execution_count": 16
        }
      ]
    },
    {
      "cell_type": "code",
      "source": [
        "portabler = lambda port : [i.replace(splat, \" \") for i in port.split(spliter)]\n",
        "\n",
        "portabli = portabler(sample[\"antarmodas\"])\n",
        "\n",
        "assert len(portable) == len(portabli), \"Fail !\""
      ],
      "metadata": {
        "id": "l4a7YdrfT6sB"
      },
      "execution_count": 17,
      "outputs": []
    },
    {
      "cell_type": "code",
      "source": [
        "class SingleYanClass:\n",
        "  def __init__(self, origin):\n",
        "    self.origin = origin\n",
        "\n",
        "  def GetAntarModas(self, i):\n",
        "    result = portabler(self.origin[i][\"antarmodas\"])\n",
        "    return result\n",
        "\n",
        "temporary = SingleYanClass(data)"
      ],
      "metadata": {
        "id": "brNQieXUUhkq"
      },
      "execution_count": 18,
      "outputs": []
    },
    {
      "cell_type": "code",
      "source": [
        "class YanClass(SingleYanClass):\n",
        "  def __init__(self, origin):\n",
        "    super().__init__(origin)\n",
        "\n",
        "  @property\n",
        "  def GetBigStatiun(self):\n",
        "    result = [int(self.origin[i][\"isbig\"]) for i in range(13)]\n",
        "    result = sum(result)\n",
        "    return result\n",
        "\n",
        "tempo = YanClass(data)\n",
        "\n",
        "tempo.GetBigStatiun"
      ],
      "metadata": {
        "id": "1qzXczlKViZG",
        "outputId": "9e6ad6b9-ff82-44f2-9c17-2f6a0318583f",
        "colab": {
          "base_uri": "https://localhost:8080/"
        }
      },
      "execution_count": 19,
      "outputs": [
        {
          "output_type": "execute_result",
          "data": {
            "text/plain": [
              "3"
            ]
          },
          "metadata": {},
          "execution_count": 19
        }
      ]
    }
  ]
}